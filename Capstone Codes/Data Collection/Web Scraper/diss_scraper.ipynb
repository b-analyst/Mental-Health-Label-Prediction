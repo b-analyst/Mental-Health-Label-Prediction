{
 "cells": [
  {
   "cell_type": "code",
   "execution_count": 1,
   "metadata": {},
   "outputs": [
    {
     "name": "stdout",
     "output_type": "stream",
     "text": [
      "0\n",
      "2\n",
      "3\n",
      "4\n",
      "5\n",
      "6\n",
      "7\n",
      "8\n",
      "9\n",
      "10\n",
      "11\n",
      "12\n",
      "13\n",
      "14\n",
      "15\n",
      "16\n",
      "17\n",
      "18\n",
      "19\n",
      "20\n",
      "21\n",
      "22\n",
      "23\n",
      "24\n",
      "25\n",
      "26\n",
      "27\n",
      "28\n",
      "29\n",
      "30\n",
      "31\n",
      "32\n",
      "33\n",
      "34\n",
      "35\n",
      "36\n",
      "37\n",
      "38\n"
     ]
    }
   ],
   "source": [
    "import requests\n",
    "from bs4 import BeautifulSoup\n",
    "import selenium\n",
    "import pandas as pd\n",
    "import json\n",
    "\n",
    "diss_url = \"https://www.mentalhealthforum.net/forum/forums/dissociation-depersonalisation-and-derealisation.196\"\n",
    "general_url = \"https://www.mentalhealthforum.net\"\n",
    "\n",
    "\n",
    "\n",
    "results = []\n",
    "i=1\n",
    "for i in range(39):\n",
    "    \n",
    "    if i == 1:\n",
    "        diss_url = \"https://www.mentalhealthforum.net/forum/forums/dissociation-depersonalisation-and-derealisation.196\"\n",
    "        r = requests.get(diss_url, timeout=(10,200))\n",
    "        soup = BeautifulSoup(r.content)\n",
    "        pretty_soup = soup.prettify()\n",
    "        links = []\n",
    "        \n",
    "        for element in soup.findAll(attrs={'class': \"structItem-cell structItem-cell--main\"}):\n",
    "            name = element.find(\"a\").get(\"href\")\n",
    "            name = general_url + name\n",
    "            links.append(name)\n",
    "            \n",
    "        for link in links[1:]:\n",
    "            sub = requests.get(link, timeout=(10,200))\n",
    "            sub_soup = BeautifulSoup(sub.content)\n",
    "            \n",
    "            for element in sub_soup:\n",
    "                element = json.loads(\"\".join(sub_soup.find(\"script\", {\"type\":\"application/ld+json\"}).contents))\n",
    "                if element[\"articleBody\"] not in results:\n",
    "                    results.append(element[\"articleBody\"])\n",
    "        i += 1\n",
    "        \n",
    "    else:\n",
    "        diss_url = \"https://www.mentalhealthforum.net/forum/forums/dissociation-depersonalisation-and-derealisation.196/page-{}\".format(i)\n",
    "        r = requests.get(diss_url, timeout=(10,200))\n",
    "        soup = BeautifulSoup(r.content)\n",
    "        pretty_soup = soup.prettify()\n",
    "        links = []\n",
    "        \n",
    "        for element in soup.findAll(attrs={'class': \"structItem-cell structItem-cell--main\"}):\n",
    "            name = element.find(\"a\").get(\"href\")\n",
    "            name = general_url + name\n",
    "            links.append(name)\n",
    "        print(i)\n",
    "        \n",
    "        for link in links[1:]:\n",
    "            sub = requests.get(link, timeout=(10,200))\n",
    "            sub_soup = BeautifulSoup(sub.content)\n",
    "            \n",
    "            for element in sub_soup:\n",
    "                element = json.loads(\"\".join(sub_soup.find(\"script\", {\"type\":\"application/ld+json\"}).contents))\n",
    "                if element[\"articleBody\"] not in results:\n",
    "                    results.append(element[\"articleBody\"])\n",
    "        i += 1\n",
    "        \n",
    "data = pd.DataFrame(results)\n",
    "data.to_csv('diss_forum.csv')"
   ]
  },
  {
   "cell_type": "code",
   "execution_count": 2,
   "metadata": {},
   "outputs": [
    {
     "name": "stdout",
     "output_type": "stream",
     "text": [
      "911\n"
     ]
    }
   ],
   "source": [
    "print(len(data))"
   ]
  },
  {
   "cell_type": "code",
   "execution_count": null,
   "metadata": {},
   "outputs": [],
   "source": []
  }
 ],
 "metadata": {
  "kernelspec": {
   "display_name": "Python 3",
   "language": "python",
   "name": "python3"
  },
  "language_info": {
   "codemirror_mode": {
    "name": "ipython",
    "version": 3
   },
   "file_extension": ".py",
   "mimetype": "text/x-python",
   "name": "python",
   "nbconvert_exporter": "python",
   "pygments_lexer": "ipython3",
   "version": "3.8.5"
  }
 },
 "nbformat": 4,
 "nbformat_minor": 4
}
