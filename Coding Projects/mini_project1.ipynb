{
 "cells": [
  {
   "cell_type": "code",
   "execution_count": 221,
   "metadata": {},
   "outputs": [
    {
     "name": "stdout",
     "output_type": "stream",
     "text": [
      "                           country  count\n",
      "0       People's Republic of China     19\n",
      "1            Republic of Indonesia     19\n",
      "2    Socialist Republic of Vietnam     17\n",
      "3                Republic of India     16\n",
      "4                Republic of Yemen     13\n",
      "5               Kingdom of Morocco     12\n",
      "6                            Nepal     12\n",
      "7  People's Republic of Bangladesh     12\n",
      "8           Republic of Mozambique     11\n",
      "9                           Africa     11\n",
      "                                         project code  count\n",
      "6   Environment and natural resources management    7    223\n",
      "9                              Rural development    9    202\n",
      "0                              Human development    8    197\n",
      "5                       Public sector governance    2    184\n",
      "3          Social protection and risk management    6    158\n",
      "8       Financial and private sector development   10    130\n",
      "1                                                  11    122\n",
      "7                    Social dev/gender/inclusion    4    119\n",
      "4                          Trade and integration    5     72\n",
      "10                             Urban development    3     47\n"
     ]
    }
   ],
   "source": [
    "import json \n",
    "import pandas as pd\n",
    "import operator\n",
    "from pandas.io.json import json_normalize\n",
    "from collections import ChainMap\n",
    "import numpy as np\n",
    "json.load((open('data/world_bank_projects.json')))\n",
    "json_df = pd.read_json('data/world_bank_projects.json')\n",
    "unique_c = json_df['countryname'].unique()\n",
    "\n",
    "###finding 10 countries with most projects###\n",
    "unique_count = {}\n",
    "for country in unique_c:\n",
    "    i = 0\n",
    "    for name in json_df['countryname']:\n",
    "        if name == country:\n",
    "            i += 1\n",
    "    item = (country, i)\n",
    "    unique_count[item[0]] = item[1]\n",
    "\n",
    "most_projects = sorted(unique_count.items(),key=operator.itemgetter(1),reverse=True)\n",
    "answer_1 = []\n",
    "for country in most_projects[0:10]:\n",
    "    answer_1.append(country)\n",
    "\n",
    "###finding 10 major project themes###\n",
    "p_code = pd.DataFrame(json_df['mjtheme_namecode'])\n",
    "\n",
    "temp_list = []\n",
    "for row in p_code['mjtheme_namecode']:\n",
    "    for items in row:\n",
    "        temp_list.append(items)\n",
    "\n",
    "new_df = pd.DataFrame(temp_list)\n",
    "new_df['name'].fillna('nan')\n",
    "melt_df = new_df.melt('code', value_name='project').drop('variable', 1)\n",
    "\n",
    "unique_code = []\n",
    "unique_name = []\n",
    "for code in melt_df['code']:\n",
    "    if code not in unique_code:\n",
    "        unique_code.append(code)\n",
    "for name in melt_df['project']:\n",
    "    if name not in unique_name:\n",
    "        unique_name.append(name)\n",
    "\n",
    "new = pd.DataFrame(list(zip(unique_name,unique_code)), columns = ['project', 'code'])\n",
    "count = []\n",
    "for project in new['project']:\n",
    "    i = 0\n",
    "    for instance in melt_df['project']:\n",
    "        if project == instance:\n",
    "            i+=1\n",
    "    count.append(i)\n",
    "\n",
    "new['count'] = count\n",
    "new_sorted = new.sort_values(by='count')\n",
    "\n",
    "answer1 = pd.DataFrame(answer_1, columns=['country','count'])\n",
    "answer2 = new_sorted[-1:0:-1]\n",
    "\n",
    "print(answer1)\n",
    "print(answer2)\n"
   ]
  },
  {
   "cell_type": "code",
   "execution_count": null,
   "metadata": {},
   "outputs": [],
   "source": []
  },
  {
   "cell_type": "code",
   "execution_count": null,
   "metadata": {},
   "outputs": [],
   "source": []
  }
 ],
 "metadata": {
  "kernelspec": {
   "display_name": "Python 3",
   "language": "python",
   "name": "python3"
  },
  "language_info": {
   "codemirror_mode": {
    "name": "ipython",
    "version": 3
   },
   "file_extension": ".py",
   "mimetype": "text/x-python",
   "name": "python",
   "nbconvert_exporter": "python",
   "pygments_lexer": "ipython3",
   "version": "3.8.5"
  }
 },
 "nbformat": 4,
 "nbformat_minor": 4
}
