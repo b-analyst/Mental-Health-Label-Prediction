{
 "cells": [
  {
   "cell_type": "code",
   "execution_count": null,
   "metadata": {
    "scrolled": true
   },
   "outputs": [],
   "source": [
    "import requests\n",
    "from bs4 import BeautifulSoup\n",
    "import selenium\n",
    "import pandas as pd\n",
    "import json\n",
    "\n",
    "depression_url = \"https://www.mentalhealthforum.net/forum/forums/depression-forum.366\"\n",
    "general_url = \"https://www.mentalhealthforum.net\"\n",
    "\n",
    "\n",
    "\n",
    "results = []\n",
    "i=1\n",
    "for i in range(100):\n",
    "    \n",
    "    if i == 1:\n",
    "        depression_url = \"https://www.mentalhealthforum.net/forum/forums/depression-forum.366\"  \n",
    "        r = requests.get(depression_url)\n",
    "        soup = BeautifulSoup(r.content)\n",
    "        pretty_soup = soup.prettify()\n",
    "        links = []\n",
    "        \n",
    "        for element in soup.findAll(attrs={'class': \"structItem-cell structItem-cell--main\"}):\n",
    "            name = element.find(\"a\").get(\"href\")\n",
    "            name = general_url + name\n",
    "            links.append(name)\n",
    "            \n",
    "        for link in links[1:]:\n",
    "            sub = requests.get(link)\n",
    "            sub_soup = BeautifulSoup(sub.content)\n",
    "            \n",
    "            for element in sub_soup:\n",
    "                element = json.loads(\"\".join(sub_soup.find(\"script\", {\"type\":\"application/ld+json\"}).contents))\n",
    "                if element[\"articleBody\"] not in results:\n",
    "                    results.append(element[\"articleBody\"])\n",
    "        i += 1\n",
    "        \n",
    "    else:\n",
    "        depression_url = \"https://www.mentalhealthforum.net/forum/forums/depression-forum.366/page-{}\".format(i)\n",
    "        r = requests.get(depression_url)\n",
    "        soup = BeautifulSoup(r.content)\n",
    "        pretty_soup = soup.prettify()\n",
    "        links = []\n",
    "        \n",
    "        for element in soup.findAll(attrs={'class': \"structItem-cell structItem-cell--main\"}):\n",
    "            name = element.find(\"a\").get(\"href\")\n",
    "            name = general_url + name\n",
    "            links.append(name)\n",
    "        print(len(links))\n",
    "        \n",
    "        for link in links[1:]:\n",
    "            sub = requests.get(link)\n",
    "            sub_soup = BeautifulSoup(sub.content)\n",
    "            \n",
    "            for element in sub_soup:\n",
    "                element = json.loads(\"\".join(sub_soup.find(\"script\", {\"type\":\"application/ld+json\"}).contents))\n",
    "                if element[\"articleBody\"] not in results:\n",
    "                    results.append(element[\"articleBody\"])\n",
    "        i += 1\n",
    "        \n",
    "data = pd.DataFrame(results)\n",
    "data.to_csv('dep_forum.csv')"
   ]
  }
 ],
 "metadata": {
  "kernelspec": {
   "display_name": "Python 3",
   "language": "python",
   "name": "python3"
  },
  "language_info": {
   "codemirror_mode": {
    "name": "ipython",
    "version": 3
   },
   "file_extension": ".py",
   "mimetype": "text/x-python",
   "name": "python",
   "nbconvert_exporter": "python",
   "pygments_lexer": "ipython3",
   "version": "3.7.10"
  }
 },
 "nbformat": 4,
 "nbformat_minor": 4
}
